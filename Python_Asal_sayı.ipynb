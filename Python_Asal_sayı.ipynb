{
  "nbformat": 4,
  "nbformat_minor": 0,
  "metadata": {
    "colab": {
      "name": "Python Asal sayı ",
      "provenance": [],
      "authorship_tag": "ABX9TyPIRruGXcJ6ytaMCzxIyXEe",
      "include_colab_link": true
    },
    "kernelspec": {
      "name": "python3",
      "display_name": "Python 3"
    },
    "language_info": {
      "name": "python"
    }
  },
  "cells": [
    {
      "cell_type": "markdown",
      "metadata": {
        "id": "view-in-github",
        "colab_type": "text"
      },
      "source": [
        "<a href=\"https://colab.research.google.com/github/d-1320hasan/Armstrong_Numbers/blob/main/Python_Asal_say%C4%B1.ipynb\" target=\"_parent\"><img src=\"https://colab.research.google.com/assets/colab-badge.svg\" alt=\"Open In Colab\"/></a>"
      ]
    },
    {
      "cell_type": "code",
      "metadata": {
        "colab": {
          "base_uri": "https://localhost:8080/"
        },
        "id": "DJGSuicNAbXw",
        "outputId": "ae8c8bf9-7d53-440e-c096-8e5f5a257d3f"
      },
      "source": [
        "sayı = int(input(\"Bir sayı giriniz\"))\n",
        "toplam=0\n",
        "for i in range(2,sayı):\n",
        "  if sayı%i==0:\n",
        "    toplam += 1\n",
        "if toplam == 0:\n",
        "      print(\"sayı asal\")\n",
        "else:\n",
        "      print(\"sayı asal değil\")\n"
      ],
      "execution_count": 6,
      "outputs": [
        {
          "output_type": "stream",
          "name": "stdout",
          "text": [
            "Bir sayı giriniz9\n",
            "sayı asal değil\n"
          ]
        }
      ]
    }
  ]
}