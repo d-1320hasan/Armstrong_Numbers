{
  "nbformat": 4,
  "nbformat_minor": 0,
  "metadata": {
    "colab": {
      "name": "pytthon",
      "provenance": [],
      "collapsed_sections": []
    },
    "kernelspec": {
      "name": "python3",
      "display_name": "Python 3"
    },
    "language_info": {
      "name": "python"
    }
  },
  "cells": [
    {
      "cell_type": "markdown",
      "metadata": {
        "id": "4FIB5alOBFQh"
      },
      "source": [
        "Atama - 10/03 (Armstrong Numbers)"
      ]
    },
    {
      "cell_type": "code",
      "metadata": {
        "id": "XVa7FYo1u2ft"
      },
      "source": [
        "sayı = int(input(\"lütfen pozitif tam sayı giriniz: \")) \n",
        "toplam = 0\n",
        "for i in sayı:\n",
        "    if i != \"-\" and i !=\",\" and i != \".\" :\n",
        "       toplam +=int(i)**len(sayı) \n",
        "       if toplam == int(sayı):\n",
        "         print(f\"{sayı} bir Armstrong numarasıdır\")\n",
        "       else:\n",
        "         print(f\"{sayı} bir Armstrong numarası değildir\")  \n",
        "        \n",
        "    else:   \n",
        "        print(\"Geçersiz bir giriş. Sayısal olmayan, kayan nokta veya negatif değerler kullanmayın!\")\n",
        "\n",
        "    \n",
        "        \n",
        "         \n",
        " "
      ],
      "execution_count": null,
      "outputs": []
    }
  ]
}